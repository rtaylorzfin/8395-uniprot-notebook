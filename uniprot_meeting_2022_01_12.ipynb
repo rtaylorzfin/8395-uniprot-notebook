{
 "cells": [
  {
   "cell_type": "markdown",
   "metadata": {
    "id": "w0tuIuxiJwiL"
   },
   "source": [
    "# Reports from UniProt Meeting on 1/12/23\n",
    "\n",
    "Meeting notes at https://zfin.atlassian.net/wiki/spaces/doc/pages/edit-v2/5057904641\n"
   ]
  },
  {
   "cell_type": "markdown",
   "metadata": {},
   "source": [
    "## OK to Load\n",
    "Take out the UniProt IDs in ZFIN that were \"added back\" by the \"[OK to Load](#ok2load)\" step. \n",
    "Send me a list of those. \n",
    "\n",
    "### Answer (more details in Database Queries):\n",
    "```\n",
    "Q58WW8 Q6P119 A0A0R4ID71 Q568F0 Q568F0 A6P6V4 E7FH00 A3KFQ2 B0V2R6 F1QNF8 A0A0R4IE10 F1QUR7 F1R2P4 A0A8M1PFY0 A0A0R4IVM2 A0A0G2KJA6 H9GXB9 A0A0R4IDY8 A0A8M9Q9W5 A0A0G2KR99 E7F7L1 A0A0G2L986 A0A0G2KLL0 F1QCF6 A0A0G2KQM6 A0A0G2KIJ4 A0A0R4IHW0 A0A0R4ICA2 A0A0G2L611 A0A0G2KZI4 BAZ1B BICL1 BN3D2 CHD8 COX14 GATC MCA3B MYCN MYO1C NCKP1 NTM1B S12A9 SRAC1 SVBP\n",
    "```"
   ]
  },
  {
   "cell_type": "markdown",
   "metadata": {},
   "source": [
    "## Multiple Accessions Per Gene\n",
    "There are 15 accessions with multiple gene associations: [details](#multiple-accs)"
   ]
  },
  {
   "cell_type": "markdown",
   "metadata": {},
   "source": [
    "### Publication with Single UniProt\n",
    "\n",
    "|pub_id          |gene_id             |publication                                           |gene_abbrev|accession|\n",
    "|----------------|--------------------|------------------------------------------------------|-----------|---------|\n",
    "|ZDB-PUB-020723-3|ZDB-GENE-030131-1613|Curation of NCBI Gene Data Via Shared RNA Sequence IDs|otop1      |Q7ZWK8   |\n"
   ]
  },
  {
   "cell_type": "markdown",
   "metadata": {
    "id": "w0tuIuxiJwiL"
   },
   "source": [
    "## Queries supporting these results\n"
   ]
  },
  {
   "cell_type": "markdown",
   "metadata": {
    "id": "zt1m7U60ku4Q",
    "jp-MarkdownHeadingCollapsed": true,
    "tags": []
   },
   "source": [
    "### Initialize Database"
   ]
  },
  {
   "cell_type": "code",
   "execution_count": 1,
   "metadata": {
    "colab": {
     "base_uri": "https://localhost:8080/"
    },
    "id": "xTyDfQIZU6t8",
    "outputId": "47aa42df-0154-4284-d900-054ae3a55d21",
    "tags": []
   },
   "outputs": [
    {
     "name": "stdout",
     "output_type": "stream",
     "text": [
      "  % Total    % Received % Xferd  Average Speed   Time    Time     Time  Current\n",
      "                                 Dload  Upload   Total   Spent    Left  Speed\n",
      "  0     0    0     0    0     0      0      0 --:--:-- --:--:-- --:--:--     0\n",
      "100 24.3M  100 24.3M    0     0  14.6M      0  0:00:01  0:00:01 --:--:-- 38.9M\n"
     ]
    }
   ],
   "source": [
    "!rm -f temp-zfin.db\n",
    "!curl -L -o temp-zfin.db.gz https://github.com/rtaylorzfin/8395-uniprot-notebook/raw/main/db/zfin-db-slice.db.gz\n",
    "!gunzip -f temp-zfin.db.gz"
   ]
  },
  {
   "cell_type": "code",
   "execution_count": 2,
   "metadata": {
    "id": "9eo6Iu2YSa_9"
   },
   "outputs": [],
   "source": [
    "%reload_ext sql\n"
   ]
  },
  {
   "cell_type": "code",
   "execution_count": 3,
   "metadata": {
    "colab": {
     "base_uri": "https://localhost:8080/",
     "height": 35
    },
    "id": "qom2UPNgSTea",
    "outputId": "4ce18d75-7d57-4888-f330-359ad54e116c"
   },
   "outputs": [],
   "source": [
    "%%sql\n",
    "sqlite:///temp-zfin.db"
   ]
  },
  {
   "cell_type": "markdown",
   "metadata": {
    "id": "kdXECnAGk_rO",
    "tags": []
   },
   "source": [
    "### Database Queries"
   ]
  },
  {
   "cell_type": "markdown",
   "metadata": {
    "tags": []
   },
   "source": [
    "<a id=\"ok2load\"></a>\n",
    "#### OK to Load"
   ]
  },
  {
   "cell_type": "code",
   "execution_count": 4,
   "metadata": {
    "colab": {
     "base_uri": "https://localhost:8080/"
    },
    "id": "Fq3N1Gf8UgCh",
    "outputId": "30afd81b-e9f1-4acb-a367-35107fd78293"
   },
   "outputs": [
    {
     "name": "stdout",
     "output_type": "stream",
     "text": [
      " * sqlite:///temp-zfin.db\n",
      "Done.\n",
      "Done.\n"
     ]
    },
    {
     "data": {
      "text/html": [
       "<table>\n",
       "    <tr>\n",
       "        <th>dblink_acc_num</th>\n",
       "        <th>mrkr_zdb_id</th>\n",
       "        <th>mrkr_abbrev</th>\n",
       "    </tr>\n",
       "    <tr>\n",
       "        <td>A0A0G2KIJ4</td>\n",
       "        <td>ZDB-GENE-030131-9298</td>\n",
       "        <td>wu:fa56d06</td>\n",
       "    </tr>\n",
       "    <tr>\n",
       "        <td>A0A0G2KJA6</td>\n",
       "        <td>ZDB-GENE-170530-6</td>\n",
       "        <td>nherf1b</td>\n",
       "    </tr>\n",
       "    <tr>\n",
       "        <td>A0A0G2KLL0</td>\n",
       "        <td>ZDB-GENE-030131-8004</td>\n",
       "        <td>sema6a</td>\n",
       "    </tr>\n",
       "    <tr>\n",
       "        <td>A0A0G2KQM6</td>\n",
       "        <td>ZDB-GENE-060508-1</td>\n",
       "        <td>fanca</td>\n",
       "    </tr>\n",
       "    <tr>\n",
       "        <td>A0A0G2KR99</td>\n",
       "        <td>ZDB-GENE-150114-1</td>\n",
       "        <td>kdm5a</td>\n",
       "    </tr>\n",
       "    <tr>\n",
       "        <td>A0A0G2KZI4</td>\n",
       "        <td>ZDB-GENE-060508-1</td>\n",
       "        <td>fanca</td>\n",
       "    </tr>\n",
       "    <tr>\n",
       "        <td>A0A0G2L611</td>\n",
       "        <td>ZDB-GENE-101111-9</td>\n",
       "        <td>slc1a9</td>\n",
       "    </tr>\n",
       "    <tr>\n",
       "        <td>A0A0G2L986</td>\n",
       "        <td>ZDB-GENE-120402-2</td>\n",
       "        <td>thbs1a</td>\n",
       "    </tr>\n",
       "    <tr>\n",
       "        <td>A0A0R4ICA2</td>\n",
       "        <td>ZDB-GENE-110728-3</td>\n",
       "        <td>toporsb</td>\n",
       "    </tr>\n",
       "    <tr>\n",
       "        <td>A0A0R4ID71</td>\n",
       "        <td>ZDB-GENE-030131-212</td>\n",
       "        <td>evplb</td>\n",
       "    </tr>\n",
       "    <tr>\n",
       "        <td>A0A0R4IDY8</td>\n",
       "        <td>ZDB-GENE-131119-21</td>\n",
       "        <td>si:ch73-364h19.2</td>\n",
       "    </tr>\n",
       "    <tr>\n",
       "        <td>A0A0R4IE10</td>\n",
       "        <td>ZDB-GENE-050706-188</td>\n",
       "        <td>eef1a1l2</td>\n",
       "    </tr>\n",
       "    <tr>\n",
       "        <td>A0A0R4IHW0</td>\n",
       "        <td>ZDB-GENE-060720-30</td>\n",
       "        <td>cckb</td>\n",
       "    </tr>\n",
       "    <tr>\n",
       "        <td>A0A0R4IVM2</td>\n",
       "        <td>ZDB-GENE-090624-2</td>\n",
       "        <td>syngr1b</td>\n",
       "    </tr>\n",
       "    <tr>\n",
       "        <td>A3KFQ2</td>\n",
       "        <td>ZDB-GENE-041001-83</td>\n",
       "        <td>nitr1f</td>\n",
       "    </tr>\n",
       "    <tr>\n",
       "        <td>A6P6V4</td>\n",
       "        <td>ZDB-GENE-110725-1</td>\n",
       "        <td>tas2r3</td>\n",
       "    </tr>\n",
       "    <tr>\n",
       "        <td>B0V2R6</td>\n",
       "        <td>ZDB-GENE-030131-7811</td>\n",
       "        <td>fam78bb</td>\n",
       "    </tr>\n",
       "    <tr>\n",
       "        <td>E7F7L1</td>\n",
       "        <td>ZDB-GENE-030131-7093</td>\n",
       "        <td>setdb2</td>\n",
       "    </tr>\n",
       "    <tr>\n",
       "        <td>E7FH00</td>\n",
       "        <td>ZDB-GENE-110421-2</td>\n",
       "        <td>grm8a</td>\n",
       "    </tr>\n",
       "    <tr>\n",
       "        <td>F1QCF6</td>\n",
       "        <td>ZDB-GENE-100402-3</td>\n",
       "        <td>ugt2b5</td>\n",
       "    </tr>\n",
       "    <tr>\n",
       "        <td>F1QNF8</td>\n",
       "        <td>ZDB-GENE-100406-3</td>\n",
       "        <td>ugt5b1</td>\n",
       "    </tr>\n",
       "    <tr>\n",
       "        <td>F1QUR7</td>\n",
       "        <td>ZDB-GENE-100406-5</td>\n",
       "        <td>ugt5b3</td>\n",
       "    </tr>\n",
       "    <tr>\n",
       "        <td>F1R2P4</td>\n",
       "        <td>ZDB-GENE-040219-13</td>\n",
       "        <td>tlr8a</td>\n",
       "    </tr>\n",
       "    <tr>\n",
       "        <td>H9GXB9</td>\n",
       "        <td>ZDB-GENE-170217-1</td>\n",
       "        <td>ppic</td>\n",
       "    </tr>\n",
       "    <tr>\n",
       "        <td>Q58WW8</td>\n",
       "        <td>ZDB-GENE-050510-3</td>\n",
       "        <td>tas2r203</td>\n",
       "    </tr>\n",
       "    <tr>\n",
       "        <td>Q6P119</td>\n",
       "        <td>ZDB-GENE-091204-407</td>\n",
       "        <td>ndufb3</td>\n",
       "    </tr>\n",
       "</table>"
      ],
      "text/plain": [
       "[('A0A0G2KIJ4', 'ZDB-GENE-030131-9298', 'wu:fa56d06'),\n",
       " ('A0A0G2KJA6', 'ZDB-GENE-170530-6', 'nherf1b'),\n",
       " ('A0A0G2KLL0', 'ZDB-GENE-030131-8004', 'sema6a'),\n",
       " ('A0A0G2KQM6', 'ZDB-GENE-060508-1', 'fanca'),\n",
       " ('A0A0G2KR99', 'ZDB-GENE-150114-1', 'kdm5a'),\n",
       " ('A0A0G2KZI4', 'ZDB-GENE-060508-1', 'fanca'),\n",
       " ('A0A0G2L611', 'ZDB-GENE-101111-9', 'slc1a9'),\n",
       " ('A0A0G2L986', 'ZDB-GENE-120402-2', 'thbs1a'),\n",
       " ('A0A0R4ICA2', 'ZDB-GENE-110728-3', 'toporsb'),\n",
       " ('A0A0R4ID71', 'ZDB-GENE-030131-212', 'evplb'),\n",
       " ('A0A0R4IDY8', 'ZDB-GENE-131119-21', 'si:ch73-364h19.2'),\n",
       " ('A0A0R4IE10', 'ZDB-GENE-050706-188', 'eef1a1l2'),\n",
       " ('A0A0R4IHW0', 'ZDB-GENE-060720-30', 'cckb'),\n",
       " ('A0A0R4IVM2', 'ZDB-GENE-090624-2', 'syngr1b'),\n",
       " ('A3KFQ2', 'ZDB-GENE-041001-83', 'nitr1f'),\n",
       " ('A6P6V4', 'ZDB-GENE-110725-1', 'tas2r3'),\n",
       " ('B0V2R6', 'ZDB-GENE-030131-7811', 'fam78bb'),\n",
       " ('E7F7L1', 'ZDB-GENE-030131-7093', 'setdb2'),\n",
       " ('E7FH00', 'ZDB-GENE-110421-2', 'grm8a'),\n",
       " ('F1QCF6', 'ZDB-GENE-100402-3', 'ugt2b5'),\n",
       " ('F1QNF8', 'ZDB-GENE-100406-3', 'ugt5b1'),\n",
       " ('F1QUR7', 'ZDB-GENE-100406-5', 'ugt5b3'),\n",
       " ('F1R2P4', 'ZDB-GENE-040219-13', 'tlr8a'),\n",
       " ('H9GXB9', 'ZDB-GENE-170217-1', 'ppic'),\n",
       " ('Q58WW8', 'ZDB-GENE-050510-3', 'tas2r203'),\n",
       " ('Q6P119', 'ZDB-GENE-091204-407', 'ndufb3')]"
      ]
     },
     "execution_count": 4,
     "metadata": {},
     "output_type": "execute_result"
    }
   ],
   "source": [
    "%%sql\n",
    "\n",
    "create table \"1a\" as\n",
    "select dblink_acc_num, mrkr_zdb_id, mrkr_abbrev from db_link d left join marker m on m.mrkr_zdb_id = d.dblink_linked_recid where dblink_acc_num in ('Q58WW8', 'Q6P119', 'A0A0R4ID71', 'Q568F0', 'Q568F0', 'A6P6V4', 'E7FH00', 'A3KFQ2', 'B0V2R6', 'F1QNF8', 'A0A0R4IE10', 'F1QUR7', 'F1R2P4', 'A0A8M1PFY0', 'A0A0R4IVM2', 'A0A0G2KJA6', 'H9GXB9', 'A0A0R4IDY8', 'A0A8M9Q9W5', 'A0A0G2KR99', 'E7F7L1', 'A0A0G2L986', 'A0A0G2KLL0', 'F1QCF6', 'A0A0G2KQM6', 'A0A0G2KIJ4', 'A0A0R4IHW0', 'A0A0R4ICA2', 'A0A0G2L611', 'A0A0G2KZI4', 'BAZ1B', 'BICL1', 'BN3D2', 'CHD8', 'COX14', 'GATC', 'MCA3B', 'MYCN', 'MYO1C', 'NCKP1', 'NTM1B', 'S12A9', 'SRAC1', 'SVBP') order by dblink_acc_num;\n",
    "select * from \"1a\";"
   ]
  },
  {
   "cell_type": "markdown",
   "metadata": {},
   "source": [
    "### Multiple Accessions Per Gene\n",
    "<a name=\"multiple-accs\"></a>\n"
   ]
  },
  {
   "cell_type": "code",
   "execution_count": 5,
   "metadata": {
    "tags": []
   },
   "outputs": [
    {
     "name": "stdout",
     "output_type": "stream",
     "text": [
      " * sqlite:///temp-zfin.db\n",
      "Done.\n",
      "Done.\n"
     ]
    },
    {
     "data": {
      "text/html": [
       "<table>\n",
       "    <tr>\n",
       "        <th>dblink_acc_num</th>\n",
       "        <th>gene_count</th>\n",
       "        <th>genes</th>\n",
       "    </tr>\n",
       "    <tr>\n",
       "        <td>A0A0R4INU4</td>\n",
       "        <td>2</td>\n",
       "        <td>ZDB-GENE-070705-407, ZDB-GENE-061214-4</td>\n",
       "    </tr>\n",
       "    <tr>\n",
       "        <td>A0A2R8QBP2</td>\n",
       "        <td>2</td>\n",
       "        <td>ZDB-GENE-030131-7802, ZDB-GENE-090603-1</td>\n",
       "    </tr>\n",
       "    <tr>\n",
       "        <td>A0A2R8RNT6</td>\n",
       "        <td>2</td>\n",
       "        <td>ZDB-GENE-070112-2072, ZDB-GENE-030131-478</td>\n",
       "    </tr>\n",
       "    <tr>\n",
       "        <td>A3KPR4</td>\n",
       "        <td>2</td>\n",
       "        <td>ZDB-GENE-070620-17, ZDB-GENE-070927-10</td>\n",
       "    </tr>\n",
       "    <tr>\n",
       "        <td>A4IGE9</td>\n",
       "        <td>2</td>\n",
       "        <td>ZDB-GENE-120214-9, ZDB-GENE-070424-73</td>\n",
       "    </tr>\n",
       "    <tr>\n",
       "        <td>A7MBY4</td>\n",
       "        <td>2</td>\n",
       "        <td>ZDB-GENE-080723-3, ZDB-GENE-071004-32</td>\n",
       "    </tr>\n",
       "    <tr>\n",
       "        <td>A8KB40</td>\n",
       "        <td>2</td>\n",
       "        <td>ZDB-GENE-040426-2762, ZDB-GENE-080227-7</td>\n",
       "    </tr>\n",
       "    <tr>\n",
       "        <td>B0S5A1</td>\n",
       "        <td>2</td>\n",
       "        <td>ZDB-GENE-070705-407, ZDB-GENE-061214-4</td>\n",
       "    </tr>\n",
       "    <tr>\n",
       "        <td>E7F5V3</td>\n",
       "        <td>2</td>\n",
       "        <td>ZDB-GENE-030131-7802, ZDB-GENE-090603-1</td>\n",
       "    </tr>\n",
       "    <tr>\n",
       "        <td>F6NMI9</td>\n",
       "        <td>2</td>\n",
       "        <td>ZDB-GENE-070705-407, ZDB-GENE-061214-4</td>\n",
       "    </tr>\n",
       "    <tr>\n",
       "        <td>F8W3U6</td>\n",
       "        <td>2</td>\n",
       "        <td>ZDB-GENE-030131-7802, ZDB-GENE-090603-1</td>\n",
       "    </tr>\n",
       "    <tr>\n",
       "        <td>Q2PRH6</td>\n",
       "        <td>2</td>\n",
       "        <td>ZDB-GENE-070806-6, ZDB-GENE-010309-2</td>\n",
       "    </tr>\n",
       "    <tr>\n",
       "        <td>Q6DEF5</td>\n",
       "        <td>2</td>\n",
       "        <td>ZDB-GENE-040801-199, ZDB-GENE-110920-8</td>\n",
       "    </tr>\n",
       "    <tr>\n",
       "        <td>Q6P2U5</td>\n",
       "        <td>2</td>\n",
       "        <td>ZDB-GENE-030131-8007, ZDB-GENE-030131-9056</td>\n",
       "    </tr>\n",
       "    <tr>\n",
       "        <td>Q801W9</td>\n",
       "        <td>2</td>\n",
       "        <td>ZDB-GENE-001106-16, ZDB-GENE-001106-8</td>\n",
       "    </tr>\n",
       "</table>"
      ],
      "text/plain": [
       "[('A0A0R4INU4', 2, 'ZDB-GENE-070705-407, ZDB-GENE-061214-4'),\n",
       " ('A0A2R8QBP2', 2, 'ZDB-GENE-030131-7802, ZDB-GENE-090603-1'),\n",
       " ('A0A2R8RNT6', 2, 'ZDB-GENE-070112-2072, ZDB-GENE-030131-478'),\n",
       " ('A3KPR4', 2, 'ZDB-GENE-070620-17, ZDB-GENE-070927-10'),\n",
       " ('A4IGE9', 2, 'ZDB-GENE-120214-9, ZDB-GENE-070424-73'),\n",
       " ('A7MBY4', 2, 'ZDB-GENE-080723-3, ZDB-GENE-071004-32'),\n",
       " ('A8KB40', 2, 'ZDB-GENE-040426-2762, ZDB-GENE-080227-7'),\n",
       " ('B0S5A1', 2, 'ZDB-GENE-070705-407, ZDB-GENE-061214-4'),\n",
       " ('E7F5V3', 2, 'ZDB-GENE-030131-7802, ZDB-GENE-090603-1'),\n",
       " ('F6NMI9', 2, 'ZDB-GENE-070705-407, ZDB-GENE-061214-4'),\n",
       " ('F8W3U6', 2, 'ZDB-GENE-030131-7802, ZDB-GENE-090603-1'),\n",
       " ('Q2PRH6', 2, 'ZDB-GENE-070806-6, ZDB-GENE-010309-2'),\n",
       " ('Q6DEF5', 2, 'ZDB-GENE-040801-199, ZDB-GENE-110920-8'),\n",
       " ('Q6P2U5', 2, 'ZDB-GENE-030131-8007, ZDB-GENE-030131-9056'),\n",
       " ('Q801W9', 2, 'ZDB-GENE-001106-16, ZDB-GENE-001106-8')]"
      ]
     },
     "execution_count": 5,
     "metadata": {},
     "output_type": "execute_result"
    }
   ],
   "source": [
    "%%sql\n",
    "create table \"2a\" as \n",
    "select dblink_acc_num,\n",
    " count(dblink_linked_recid) as gene_count, \n",
    " group_concat(dblink_linked_recid,', ') as genes \n",
    "from db_link \n",
    "where dblink_fdbcont_zdb_id = 'ZDB-FDBCONT-040412-47' \n",
    "group by dblink_acc_num \n",
    "having count(dblink_linked_recid) > 1;\n",
    "select * from \"2a\";"
   ]
  },
  {
   "cell_type": "markdown",
   "metadata": {
    "id": "ntXxYCHtxvf3"
   },
   "source": [
    "## Export Excel Spreadsheet\n",
    "\n"
   ]
  },
  {
   "cell_type": "code",
   "execution_count": 6,
   "metadata": {
    "id": "m4OQhvxYta5S",
    "tags": []
   },
   "outputs": [],
   "source": [
    "import sqlite3\n",
    "import pandas as pd\n",
    "\n",
    "def main():\n",
    "\n",
    "    tables = ['1a', '2a']\n",
    "\n",
    "    # Create a Pandas Excel writer using the openpyxl engine\n",
    "    writer = pd.ExcelWriter('Meeting Notes.xlsx', engine='openpyxl')\n",
    "\n",
    "    # Loop over the CSV files\n",
    "    for i, table in enumerate(tables):\n",
    "      # Read the CSV file\n",
    "      df = get_table_rows_as_data_frame(table)\n",
    "\n",
    "      # Write the dataframe to a sheet in the Excel file\n",
    "      df.to_excel(writer, table, index=False)\n",
    "\n",
    "    writer.close()\n",
    "\n",
    "\n",
    "def get_table_rows_as_data_frame(tablename):\n",
    "    # Connect to the database\n",
    "    conn = sqlite3.connect('temp-zfin.db')\n",
    "\n",
    "    # Create a cursor\n",
    "    cursor = conn.cursor()\n",
    "    cursor.execute('SELECT * FROM \"' + tablename + '\"')\n",
    "    results = cursor.fetchall()\n",
    "\n",
    "    column_names = [description[0] for description in cursor.description]\n",
    "\n",
    "    # Convert the results to a Pandas DataFrame\n",
    "    df = pd.DataFrame(results, columns=column_names)\n",
    "\n",
    "    cursor.close()\n",
    "    conn.close()\n",
    "\n",
    "    return df\n",
    "\n",
    "main()\n",
    "\n"
   ]
  },
  {
   "cell_type": "code",
   "execution_count": null,
   "metadata": {},
   "outputs": [],
   "source": []
  }
 ],
 "metadata": {
  "colab": {
   "collapsed_sections": [
    "kdXECnAGk_rO",
    "eH0CjARGO6y2"
   ],
   "provenance": []
  },
  "kernelspec": {
   "display_name": "Python 3 (ipykernel)",
   "language": "python",
   "name": "python3"
  },
  "language_info": {
   "codemirror_mode": {
    "name": "ipython",
    "version": 3
   },
   "file_extension": ".py",
   "mimetype": "text/x-python",
   "name": "python",
   "nbconvert_exporter": "python",
   "pygments_lexer": "ipython3",
   "version": "3.10.8"
  }
 },
 "nbformat": 4,
 "nbformat_minor": 4
}
