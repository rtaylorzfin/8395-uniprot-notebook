{
 "cells": [
  {
   "cell_type": "markdown",
   "metadata": {
    "id": "w0tuIuxiJwiL"
   },
   "source": [
    "# Queries supporting these results\n"
   ]
  },
  {
   "cell_type": "markdown",
   "metadata": {
    "id": "zt1m7U60ku4Q"
   },
   "source": [
    "## Initialize Database"
   ]
  },
  {
   "cell_type": "code",
   "execution_count": 1,
   "metadata": {
    "colab": {
     "base_uri": "https://localhost:8080/"
    },
    "id": "xTyDfQIZU6t8",
    "outputId": "47aa42df-0154-4284-d900-054ae3a55d21",
    "tags": []
   },
   "outputs": [
    {
     "name": "stdout",
     "output_type": "stream",
     "text": [
      "  % Total    % Received % Xferd  Average Speed   Time    Time     Time  Current\n",
      "                                 Dload  Upload   Total   Spent    Left  Speed\n",
      "  0     0    0     0    0     0      0      0 --:--:-- --:--:-- --:--:--     0\n",
      "100 24.3M  100 24.3M    0     0  5101k      0  0:00:04  0:00:04 --:--:-- 8000k\n"
     ]
    }
   ],
   "source": [
    "!rm -f zfin-db-slice.db\n",
    "!curl -L -o zfin-db-slice.db.gz https://github.com/rtaylorzfin/8395-uniprot-notebook/raw/main/db/zfin-db-slice.db.gz\n",
    "!gunzip -f zfin-db-slice.db.gz"
   ]
  },
  {
   "cell_type": "code",
   "execution_count": 2,
   "metadata": {
    "id": "9eo6Iu2YSa_9"
   },
   "outputs": [],
   "source": [
    "%reload_ext sql\n"
   ]
  },
  {
   "cell_type": "code",
   "execution_count": 3,
   "metadata": {
    "colab": {
     "base_uri": "https://localhost:8080/",
     "height": 35
    },
    "id": "qom2UPNgSTea",
    "outputId": "4ce18d75-7d57-4888-f330-359ad54e116c"
   },
   "outputs": [],
   "source": [
    "%%sql\n",
    "sqlite:///zfin-db-slice.db"
   ]
  },
  {
   "cell_type": "markdown",
   "metadata": {
    "id": "kdXECnAGk_rO"
   },
   "source": [
    "## Database Queries"
   ]
  },
  {
   "cell_type": "code",
   "execution_count": 4,
   "metadata": {
    "colab": {
     "base_uri": "https://localhost:8080/"
    },
    "id": "Fq3N1Gf8UgCh",
    "outputId": "30afd81b-e9f1-4acb-a367-35107fd78293"
   },
   "outputs": [
    {
     "name": "stdout",
     "output_type": "stream",
     "text": [
      " * sqlite:///zfin-db-slice.db\n",
      "Done.\n"
     ]
    },
    {
     "data": {
      "text/html": [
       "<table>\n",
       "    <tr>\n",
       "        <th>count(*)</th>\n",
       "    </tr>\n",
       "    <tr>\n",
       "        <td>176437</td>\n",
       "    </tr>\n",
       "</table>"
      ],
      "text/plain": [
       "[(176437,)]"
      ]
     },
     "execution_count": 4,
     "metadata": {},
     "output_type": "execute_result"
    }
   ],
   "source": [
    "%%sql\n",
    "\n",
    "select count(*) from marker;"
   ]
  },
  {
   "cell_type": "markdown",
   "metadata": {
    "id": "ntXxYCHtxvf3"
   },
   "source": [
    "# Export Excel Spreadsheet\n",
    "\n"
   ]
  },
  {
   "cell_type": "code",
   "execution_count": 5,
   "metadata": {
    "id": "m4OQhvxYta5S"
   },
   "outputs": [
    {
     "ename": "OperationalError",
     "evalue": "no such table: section1",
     "output_type": "error",
     "traceback": [
      "\u001b[0;31m---------------------------------------------------------------------------\u001b[0m",
      "\u001b[0;31mOperationalError\u001b[0m                          Traceback (most recent call last)",
      "Cell \u001b[0;32mIn[5], line 41\u001b[0m\n\u001b[1;32m     37\u001b[0m     conn\u001b[38;5;241m.\u001b[39mclose()\n\u001b[1;32m     39\u001b[0m     \u001b[38;5;28;01mreturn\u001b[39;00m df\n\u001b[0;32m---> 41\u001b[0m \u001b[43mmain\u001b[49m\u001b[43m(\u001b[49m\u001b[43m)\u001b[49m\n",
      "Cell \u001b[0;32mIn[5], line 14\u001b[0m, in \u001b[0;36mmain\u001b[0;34m()\u001b[0m\n\u001b[1;32m     11\u001b[0m \u001b[38;5;66;03m# Loop over the CSV files\u001b[39;00m\n\u001b[1;32m     12\u001b[0m \u001b[38;5;28;01mfor\u001b[39;00m i, table \u001b[38;5;129;01min\u001b[39;00m \u001b[38;5;28menumerate\u001b[39m(tables):\n\u001b[1;32m     13\u001b[0m   \u001b[38;5;66;03m# Read the CSV file\u001b[39;00m\n\u001b[0;32m---> 14\u001b[0m   df \u001b[38;5;241m=\u001b[39m \u001b[43mget_table_rows_as_data_frame\u001b[49m\u001b[43m(\u001b[49m\u001b[43mtable\u001b[49m\u001b[43m)\u001b[49m\n\u001b[1;32m     16\u001b[0m   \u001b[38;5;66;03m# Write the dataframe to a sheet in the Excel file\u001b[39;00m\n\u001b[1;32m     17\u001b[0m   df\u001b[38;5;241m.\u001b[39mto_excel(writer, table, index\u001b[38;5;241m=\u001b[39m\u001b[38;5;28;01mFalse\u001b[39;00m)\n",
      "Cell \u001b[0;32mIn[5], line 28\u001b[0m, in \u001b[0;36mget_table_rows_as_data_frame\u001b[0;34m(tablename)\u001b[0m\n\u001b[1;32m     26\u001b[0m \u001b[38;5;66;03m# Create a cursor\u001b[39;00m\n\u001b[1;32m     27\u001b[0m cursor \u001b[38;5;241m=\u001b[39m conn\u001b[38;5;241m.\u001b[39mcursor()\n\u001b[0;32m---> 28\u001b[0m \u001b[43mcursor\u001b[49m\u001b[38;5;241;43m.\u001b[39;49m\u001b[43mexecute\u001b[49m\u001b[43m(\u001b[49m\u001b[38;5;124;43m'\u001b[39;49m\u001b[38;5;124;43mSELECT * FROM \u001b[39;49m\u001b[38;5;124;43m\"\u001b[39;49m\u001b[38;5;124;43m'\u001b[39;49m\u001b[43m \u001b[49m\u001b[38;5;241;43m+\u001b[39;49m\u001b[43m \u001b[49m\u001b[43mtablename\u001b[49m\u001b[43m \u001b[49m\u001b[38;5;241;43m+\u001b[39;49m\u001b[43m \u001b[49m\u001b[38;5;124;43m'\u001b[39;49m\u001b[38;5;124;43m\"\u001b[39;49m\u001b[38;5;124;43m'\u001b[39;49m\u001b[43m)\u001b[49m\n\u001b[1;32m     29\u001b[0m results \u001b[38;5;241m=\u001b[39m cursor\u001b[38;5;241m.\u001b[39mfetchall()\n\u001b[1;32m     31\u001b[0m column_names \u001b[38;5;241m=\u001b[39m [description[\u001b[38;5;241m0\u001b[39m] \u001b[38;5;28;01mfor\u001b[39;00m description \u001b[38;5;129;01min\u001b[39;00m cursor\u001b[38;5;241m.\u001b[39mdescription]\n",
      "\u001b[0;31mOperationalError\u001b[0m: no such table: section1"
     ]
    }
   ],
   "source": [
    "import sqlite3\n",
    "import pandas as pd\n",
    "\n",
    "def main():\n",
    "\n",
    "    tables = ['section1']\n",
    "\n",
    "    # Create a Pandas Excel writer using the openpyxl engine\n",
    "    writer = pd.ExcelWriter('Meeting Notes.xlsx', engine='openpyxl')\n",
    "\n",
    "    # Loop over the CSV files\n",
    "    for i, table in enumerate(tables):\n",
    "      # Read the CSV file\n",
    "      df = get_table_rows_as_data_frame(table)\n",
    "\n",
    "      # Write the dataframe to a sheet in the Excel file\n",
    "      df.to_excel(writer, table, index=False)\n",
    "\n",
    "    writer.close()\n",
    "\n",
    "\n",
    "def get_table_rows_as_data_frame(tablename):\n",
    "    # Connect to the database\n",
    "    conn = sqlite3.connect('zfin-db-slice.db')\n",
    "\n",
    "    # Create a cursor\n",
    "    cursor = conn.cursor()\n",
    "    cursor.execute('SELECT * FROM \"' + tablename + '\"')\n",
    "    results = cursor.fetchall()\n",
    "\n",
    "    column_names = [description[0] for description in cursor.description]\n",
    "\n",
    "    # Convert the results to a Pandas DataFrame\n",
    "    df = pd.DataFrame(results, columns=column_names)\n",
    "\n",
    "    cursor.close()\n",
    "    conn.close()\n",
    "\n",
    "    return df\n",
    "\n",
    "main()\n",
    "\n"
   ]
  },
  {
   "cell_type": "code",
   "execution_count": null,
   "metadata": {},
   "outputs": [],
   "source": []
  }
 ],
 "metadata": {
  "colab": {
   "collapsed_sections": [
    "kdXECnAGk_rO",
    "eH0CjARGO6y2"
   ],
   "provenance": []
  },
  "kernelspec": {
   "display_name": "Python 3 (ipykernel)",
   "language": "python",
   "name": "python3"
  },
  "language_info": {
   "codemirror_mode": {
    "name": "ipython",
    "version": 3
   },
   "file_extension": ".py",
   "mimetype": "text/x-python",
   "name": "python",
   "nbconvert_exporter": "python",
   "pygments_lexer": "ipython3",
   "version": "3.10.8"
  }
 },
 "nbformat": 4,
 "nbformat_minor": 4
}
